{
 "cells": [
  {
   "cell_type": "code",
   "execution_count": 2,
   "metadata": {
    "collapsed": true
   },
   "outputs": [],
   "source": [
    "import tensorflow as tf\n",
    "# NumPy is often used to load, manipulate and preprocess data.\n",
    "import numpy as np"
   ]
  },
  {
   "cell_type": "code",
   "execution_count": 5,
   "metadata": {
    "collapsed": true
   },
   "outputs": [],
   "source": [
    "# Declare list of features. We only have one numeric feature. There are many\n",
    "# other types of columns that are more complicated and useful.\n",
    "feature_columns = [tf.feature_column.numeric_column(\"x\", shape=[1])]"
   ]
  },
  {
   "cell_type": "code",
   "execution_count": 6,
   "metadata": {},
   "outputs": [
    {
     "name": "stdout",
     "output_type": "stream",
     "text": [
      "INFO:tensorflow:Using default config.\n",
      "WARNING:tensorflow:Using temporary folder as model directory: /tmp/tmpkswxhfc1\n",
      "INFO:tensorflow:Using config: {'_save_checkpoints_secs': 600, '_log_step_count_steps': 100, '_keep_checkpoint_max': 5, '_save_checkpoints_steps': None, '_tf_random_seed': 1, '_model_dir': '/tmp/tmpkswxhfc1', '_session_config': None, '_keep_checkpoint_every_n_hours': 10000, '_save_summary_steps': 100}\n"
     ]
    }
   ],
   "source": [
    "# An estimator is the front end to invoke training (fitting) and evaluation\n",
    "# (inference). There are many predefined types like linear regression,\n",
    "# linear classification, and many neural network classifiers and regressors.\n",
    "# The following code provides an estimator that does linear regression.\n",
    "estimator = tf.estimator.LinearRegressor(feature_columns=feature_columns)\n"
   ]
  },
  {
   "cell_type": "code",
   "execution_count": 9,
   "metadata": {
    "collapsed": true
   },
   "outputs": [],
   "source": [
    "# TensorFlow provides many helper methods to read and set up data sets.\n",
    "# Here we use two data sets: one for training and one for evaluation\n",
    "# We have to tell the function how many batches\n",
    "# of data (num_epochs) we want and how big each batch should be.\n",
    "x_train = np.array([1., 2., 3., 4.])\n",
    "y_train = np.array([0., -1., -2., -3.])\n",
    "\n",
    "x_eval = np.array([2., 5., 8., 1.])\n",
    "y_eval = np.array([-1.01, -4.1, -7, 0.])\n",
    "\n",
    "input_fn = tf.estimator.inputs.numpy_input_fn(\n",
    "    {\"x\": x_train},\n",
    "    y_train,\n",
    "    batch_size=4,\n",
    "    num_epochs=None,\n",
    "    shuffle=True)\n",
    "\n",
    "train_input_fn = tf.estimator.inputs.numpy_input_fn(\n",
    "    {\"x\": x_train},\n",
    "    y_train,\n",
    "    batch_size=4,\n",
    "    num_epochs=1000,\n",
    "    shuffle=False)\n",
    "\n",
    "eval_input_fn = tf.estimator.inputs.numpy_input_fn(\n",
    "    {\"x\": x_eval},\n",
    "    y_eval,\n",
    "    batch_size=4,\n",
    "    num_epochs=1000,\n",
    "    shuffle=False)"
   ]
  },
  {
   "cell_type": "code",
   "execution_count": 10,
   "metadata": {},
   "outputs": [
    {
     "name": "stdout",
     "output_type": "stream",
     "text": [
      "INFO:tensorflow:Create CheckpointSaverHook.\n",
      "INFO:tensorflow:Saving checkpoints for 1 into /tmp/tmpkswxhfc1/model.ckpt.\n",
      "INFO:tensorflow:loss = 14.0, step = 1\n",
      "INFO:tensorflow:global_step/sec: 2624.16\n",
      "INFO:tensorflow:loss = 0.12567, step = 101 (0.039 sec)\n",
      "INFO:tensorflow:global_step/sec: 2054.43\n",
      "INFO:tensorflow:loss = 0.011766, step = 201 (0.049 sec)\n",
      "INFO:tensorflow:global_step/sec: 2404.78\n",
      "INFO:tensorflow:loss = 0.00874046, step = 301 (0.042 sec)\n",
      "INFO:tensorflow:global_step/sec: 2577.81\n",
      "INFO:tensorflow:loss = 0.00337608, step = 401 (0.039 sec)\n",
      "INFO:tensorflow:global_step/sec: 2262.69\n",
      "INFO:tensorflow:loss = 0.000290518, step = 501 (0.044 sec)\n",
      "INFO:tensorflow:global_step/sec: 2393.12\n",
      "INFO:tensorflow:loss = 0.000304085, step = 601 (0.042 sec)\n",
      "INFO:tensorflow:global_step/sec: 2107.48\n",
      "INFO:tensorflow:loss = 7.47436e-05, step = 701 (0.047 sec)\n",
      "INFO:tensorflow:global_step/sec: 2551.53\n",
      "INFO:tensorflow:loss = 1.13644e-05, step = 801 (0.039 sec)\n",
      "INFO:tensorflow:global_step/sec: 2565.17\n",
      "INFO:tensorflow:loss = 2.61649e-06, step = 901 (0.039 sec)\n",
      "INFO:tensorflow:Saving checkpoints for 1000 into /tmp/tmpkswxhfc1/model.ckpt.\n",
      "INFO:tensorflow:Loss for final step: 7.03189e-07.\n"
     ]
    },
    {
     "data": {
      "text/plain": [
       "<tensorflow.python.estimator.canned.linear.LinearRegressor at 0x7fb0fea21390>"
      ]
     },
     "execution_count": 10,
     "metadata": {},
     "output_type": "execute_result"
    }
   ],
   "source": [
    "# We can invoke 1000 training steps by invoking the  method and passing the\n",
    "# training data set.\n",
    "estimator.train(input_fn=input_fn, steps=1000)"
   ]
  },
  {
   "cell_type": "code",
   "execution_count": 11,
   "metadata": {},
   "outputs": [
    {
     "name": "stdout",
     "output_type": "stream",
     "text": [
      "INFO:tensorflow:Starting evaluation at 2017-10-17-00:22:20\n",
      "INFO:tensorflow:Restoring parameters from /tmp/tmpkswxhfc1/model.ckpt-1000\n",
      "INFO:tensorflow:Finished evaluation at 2017-10-17-00:22:20\n",
      "INFO:tensorflow:Saving dict for global step 1000: average_loss = 1.51359e-07, global_step = 1000, loss = 6.05436e-07\n",
      "INFO:tensorflow:Starting evaluation at 2017-10-17-00:22:21\n",
      "INFO:tensorflow:Restoring parameters from /tmp/tmpkswxhfc1/model.ckpt-1000\n",
      "INFO:tensorflow:Finished evaluation at 2017-10-17-00:22:21\n",
      "INFO:tensorflow:Saving dict for global step 1000: average_loss = 0.00255394, global_step = 1000, loss = 0.0102158\n",
      "train metrics: {'loss': 6.0543556e-07, 'global_step': 1000, 'average_loss': 1.5135889e-07}\n",
      "eval metrics: {'loss': 0.010215758, 'global_step': 1000, 'average_loss': 0.0025539396}\n"
     ]
    }
   ],
   "source": [
    "# Here we evaluate how well our model did.\n",
    "train_metrics = estimator.evaluate(input_fn=train_input_fn)\n",
    "eval_metrics = estimator.evaluate(input_fn=eval_input_fn)\n",
    "print(\"train metrics: %r\"% train_metrics)\n",
    "print(\"eval metrics: %r\"% eval_metrics)"
   ]
  }
 ],
 "metadata": {
  "kernelspec": {
   "display_name": "Python 3",
   "language": "python",
   "name": "python3"
  },
  "language_info": {
   "codemirror_mode": {
    "name": "ipython",
    "version": 3
   },
   "file_extension": ".py",
   "mimetype": "text/x-python",
   "name": "python",
   "nbconvert_exporter": "python",
   "pygments_lexer": "ipython3",
   "version": "3.5.2"
  }
 },
 "nbformat": 4,
 "nbformat_minor": 2
}
